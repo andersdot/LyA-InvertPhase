{
 "cells": [
  {
   "cell_type": "code",
   "execution_count": 1,
   "metadata": {
    "collapsed": true
   },
   "outputs": [],
   "source": [
    "import numpy as np\n",
    "import astropy.units as u\n",
    "import math as mh\n",
    "import sys\n",
    "import matplotlib as mpl\n",
    "import matplotlib.pyplot as plt\n",
    "%matplotlib inline\n",
    "import power_spectra as spe\n",
    "import fourier_estimators as fou\n",
    "import boxes\n",
    "import bigfile\n",
    "import subprocess\n",
    "import os.path"
   ]
  },
  {
   "cell_type": "code",
   "execution_count": 3,
   "metadata": {},
   "outputs": [],
   "source": [
    "def get1dps(snapshot_dir = '.', snapshot_num=14, grid_width=20, spectral_res=50*u.km/u.s, reload_snapshot=True, label=None):\n",
    "    if reload_snapshot == False:\n",
    "        try:\n",
    "            reload_snapshot=False\n",
    "            spectra = boxes.SimulationBox(snapshot_num, snapshot_dir, grid_width, spectral_res, reload_snapshot=reload_snapshot)\n",
    "        except OSError: \n",
    "            reload_snapshot = True\n",
    "            spectra = boxes.SimulationBox(snapshot_num, snapshot_dir, grid_width, spectral_res, reload_snapshot=reload_snapshot)\n",
    "    else:\n",
    "        spectra = boxes.SimulationBox(snapshot_num, snapshot_dir, grid_width, spectral_res, reload_snapshot=reload_snapshot)\n",
    "\n",
    "    spectra.convert_fourier_units_to_distance = True\n",
    "    tau = spectra.get_optical_depth()\n",
    "    tau_scaling = 1.\n",
    "    mean_flux = np.mean(np.exp(-1.*tau*tau_scaling))\n",
    "    #print('The mean flux is: ', mean_flux)\n",
    "    spectra_box = spectra.skewers_realisation_hydrogen_overdensity()\n",
    "\n",
    "    fourier_estimator_instance = fou.FourierEstimator1D(spectra_box)\n",
    "    result = fourier_estimator_instance.get_flux_power_1D()\n",
    "    x = np.arange(len(result))*2*np.pi/boxsize\n",
    "    return result, x, mean_flux, spectra._redshift"
   ]
  },
  {
   "cell_type": "code",
   "execution_count": 4,
   "metadata": {
    "collapsed": true
   },
   "outputs": [],
   "source": [
    "def get3dps(snapshot_directory, snapshot):\n",
    "    filename = snapshot_directory + '/PK-DM-PART_{0:03d}'.format(snapshot)\n",
    "    if os.path.exists(filename):\n",
    "        data = np.genfromtxt(filename, names= ['k', 'p'])\n",
    "    else:\n",
    "        command = '/mnt/home/landerson/src/GenPK/gen-pk -i {0}/PART_{1:03d} -o {2}'.format(snapshot_dir_pre + s, sn, snapshot_dir_pre + s)\n",
    "        process = subprocess.Popen(command, shell=True, stdout=subprocess.PIPE)\n",
    "        exit_code = process.wait()\n",
    "        data = np.genfromtxt(filename, names=['k', 'p'])\n",
    "    return data['p'], data['k']\n",
    "    "
   ]
  },
  {
   "cell_type": "code",
   "execution_count": 5,
   "metadata": {
    "collapsed": true
   },
   "outputs": [],
   "source": [
    "def lnMeanFlux(z):\n",
    "    return np.log(0.8)*((1. + z)/3.25)**3.2"
   ]
  },
  {
   "cell_type": "code",
   "execution_count": null,
   "metadata": {},
   "outputs": [
    {
     "name": "stdout",
     "output_type": "stream",
     "text": [
      "Reloading from snapshot (will save to:  /mnt/ceph/users/landerson/lyalphaFixedA/SPECTRA_000/gridded_spectra_200_50.hdf5  )\n",
      "Warning: no self-shielding at z= 98.0\n",
      "40000  sightlines. resolution:  50.0  z= 98.0\n",
      "Size of voxels in velocity units = {'x': <Quantity 52.78131612516788 km / s>, 'y': <Quantity 52.78131612516788 km / s>, 'z': <Quantity 50.0 km / s>}\n",
      "1\n",
      "1\n",
      "Reloading from snapshot (will save to:  /mnt/ceph/users/landerson/lyalphaFixedB/SPECTRA_000/gridded_spectra_200_50.hdf5  )\n",
      "Warning: no self-shielding at z= 98.0\n",
      "40000  sightlines. resolution:  50.0  z= 98.0\n",
      "Size of voxels in velocity units = {'x': <Quantity 52.78131612516788 km / s>, 'y': <Quantity 52.78131612516788 km / s>, 'z': <Quantity 50.0 km / s>}\n"
     ]
    }
   ],
   "source": [
    "boxsize = 20. #Mpc/h\n",
    "grid_width = 200\n",
    "spectral_res = 50*u.km/u.s\n",
    "\n",
    "\n",
    "snapshot_dir_pre = '/mnt/ceph/users/landerson/'\n",
    "snapshot_dir = ['lyalphaFixedA', 'lyalphaFixedB'] #, 'lyalphaVaried1', 'lyalphaVaried2', 'lyalphaVaried3', 'lyalphaVaried4']\n",
    "snap_nums = [0, 2]\n",
    "\n",
    "p_corr = boxsize**3.\n",
    "k_corr = 2*np.pi/boxsize\n",
    "\n",
    "\n",
    "for sn in snap_nums:\n",
    "    spectra1d= []\n",
    "    k1d = []\n",
    "    meanflux = []\n",
    "    z = []\n",
    "    spectra3d = []\n",
    "    k3d = []\n",
    "    legend = []\n",
    "    \n",
    "    fig, ax = plt.subplots(4, figsize=(6, 8)) #len(snap_nums))\n",
    "    for s in snapshot_dir:\n",
    "        p1d, k1dnow, mean_flux, redshift = get1dps(snapshot_num=sn, snapshot_dir = snapshot_dir_pre + s, reload_snapshot=False, label=s, grid_width=grid_width, spectral_res=spectral_res)\n",
    "        lnow, = ax[0].loglog(k1dnow, p1d, label=s)\n",
    "        legend.append(lnow)\n",
    "        p3d, k3dnow = get3dps(snapshot_dir_pre + s, sn)\n",
    "        ax[2].loglog(k3dnow*k_corr, p3d*p_corr)\n",
    "        \n",
    "        spectra1d.append(p1d)\n",
    "        k1d.append(k1dnow)\n",
    "        \n",
    "        spectra3d.append(p3d*p_corr)\n",
    "        k3d.append(k3dnow*k_corr)\n",
    "        \n",
    "        meanflux.append(mean_flux)\n",
    "        z.append(redshift)\n",
    "    for kmode, spec, axis in zip([k1d, k3d], [spectra1d, spectra3d], [ax[1], ax[3]]):\n",
    "        spec = np.vstack(spec)\n",
    "        meanspec = np.mean(spec, axis=0)\n",
    "        for kk, ss in zip(kmode, spec):\n",
    "            axis.loglog(kk, ss/meanspec)\n",
    "    for i in [1,3]:\n",
    "        xlim = ax[i].get_xlim()\n",
    "        ax[i].plot(xlim, [1.0, 1.0], linestyle='--', alpha=0.5, color='black')\n",
    "        ax[i].set_xlim(xlim)\n",
    "    #ax[0].set_xlim()\n",
    "    #ax[0].legend()\n",
    "    #ax[1].set_xlabel('Array Element * 2pi/boxsize')\n",
    "    ax[3].set_xlabel('Array Element * 2pi/boxsize')\n",
    "    ax[0].set_ylabel('1DP')\n",
    "    ax[1].set_ylabel('1DP/<P>')\n",
    "    ax[2].set_ylabel('3DP')\n",
    "    ax[3].set_ylabel('3DP/<P>')\n",
    "    fig.legend(legend, snapshot_dir,\n",
    "           ncol=2, mode=\"expand\", borderaxespad=0.2, bbox_to_anchor=(0., 0.98, 0.98, 0.))#, loc=3\n",
    "    ax[0].set_title('z={0:01g}'.format(redshift))\n",
    "    fig.tight_layout()\n",
    "    fig.savefig('ps_{0:03d}.pdf'.format(sn))\n",
    "\n",
    "colors = [l.get_c() for l in legend]    \n",
    "    \n",
    "figmf, axmf = plt.subplots()\n",
    "axmf.scatter(z, np.log(meanflux), c=colors)\n",
    "zz = np.linspace(0, 100, 100)\n",
    "axmf.plot(zz, lnMeanFlux(zz), lw=2, color='black')\n",
    "axmf.set_ylim(-50, 1)\n",
    "axmf.set_xlabel('redshift')\n",
    "axmf.set_ylabel('mean flux')\n",
    "figmf.savefig('meanFlux.pdf')"
   ]
  },
  {
   "cell_type": "code",
   "execution_count": null,
   "metadata": {},
   "outputs": [],
   "source": [
    "\n"
   ]
  },
  {
   "cell_type": "code",
   "execution_count": null,
   "metadata": {
    "collapsed": true
   },
   "outputs": [],
   "source": []
  }
 ],
 "metadata": {
  "kernelspec": {
   "display_name": "Python 3",
   "language": "python",
   "name": "python3"
  },
  "language_info": {
   "codemirror_mode": {
    "name": "ipython",
    "version": 3
   },
   "file_extension": ".py",
   "mimetype": "text/x-python",
   "name": "python",
   "nbconvert_exporter": "python",
   "pygments_lexer": "ipython3",
   "version": "3.6.2"
  }
 },
 "nbformat": 4,
 "nbformat_minor": 2
}
